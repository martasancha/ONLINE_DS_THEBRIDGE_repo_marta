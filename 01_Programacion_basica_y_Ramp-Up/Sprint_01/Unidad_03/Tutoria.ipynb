{
 "cells": [
  {
   "cell_type": "markdown",
   "metadata": {},
   "source": [
    "En una frutería, se ha registrado cuánto han gastado algunos clientes en diferentes frutas. Esta información se guarda en un diccionario llamado precios.\n",
    "\n",
    "Quiero calcular la  suma_precios donde vas a almacenar el gasto total de cada cliente. Cada clave del diccionario debe ser el nombre del cliente, y cada valor será la suma de los precios de las frutas que ha comprado.\n",
    "\n",
    " Recorre el diccionario precios y suma los precios de todas las frutas para cada persona. Guarda cada total en el diccionario suma_precios.\n"
   ]
  },
  {
   "cell_type": "markdown",
   "metadata": {},
   "source": [
    "diccionario precios ()\n",
    "diccionario suma_precios\n"
   ]
  },
  {
   "cell_type": "code",
   "execution_count": 36,
   "metadata": {},
   "outputs": [
    {
     "name": "stdout",
     "output_type": "stream",
     "text": [
      "{'marta': 16, 'ivan': 19, 'roberto': 28}\n"
     ]
    }
   ],
   "source": [
    "diccionario_productos = {\"marta\" :{ \"manzana\": 4, \"pera\":5, \"chirimoya\":7} ,\n",
    "                          \"ivan\":{ \"manzana\": 7, \"pera\":9, \"chirimoya\":3},\n",
    "                          \"roberto\":{ \"manzana\": 3, \"pera\":15, \"chirimoya\":10}}\n",
    "\n",
    "diccionario_suma_precios = {}\n",
    "\n",
    "\n",
    "for persona, fruta in diccionario_productos.items():\n",
    "    total_precios = 0\n",
    "    for cantidad in fruta.values():\n",
    "        total_precios = total_precios + cantidad\n",
    "        diccionario_suma_precios[persona]=total_precios\n",
    "print(diccionario_suma_precios)\n",
    "\n",
    "      \n",
    "\n",
    "\n",
    "         \n",
    "   \n",
    "\n",
    "\n",
    "\n"
   ]
  }
 ],
 "metadata": {
  "kernelspec": {
   "display_name": "Python 3",
   "language": "python",
   "name": "python3"
  },
  "language_info": {
   "codemirror_mode": {
    "name": "ipython",
    "version": 3
   },
   "file_extension": ".py",
   "mimetype": "text/x-python",
   "name": "python",
   "nbconvert_exporter": "python",
   "pygments_lexer": "ipython3",
   "version": "3.13.0"
  }
 },
 "nbformat": 4,
 "nbformat_minor": 2
}
